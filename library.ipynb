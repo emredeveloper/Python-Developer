{
  "nbformat": 4,
  "nbformat_minor": 0,
  "metadata": {
    "colab": {
      "provenance": [],
      "authorship_tag": "ABX9TyNyWB0WmidDkviUuRQT45gO",
      "include_colab_link": true
    },
    "kernelspec": {
      "name": "python3",
      "display_name": "Python 3"
    },
    "language_info": {
      "name": "python"
    }
  },
  "cells": [
    {
      "cell_type": "markdown",
      "metadata": {
        "id": "view-in-github",
        "colab_type": "text"
      },
      "source": [
        "<a href=\"https://colab.research.google.com/github/emredeveloper/Python-Learn/blob/main/library.ipynb\" target=\"_parent\"><img src=\"https://colab.research.google.com/assets/colab-badge.svg\" alt=\"Open In Colab\"/></a>"
      ]
    },
    {
      "cell_type": "code",
      "execution_count": 1,
      "metadata": {
        "colab": {
          "base_uri": "https://localhost:8080/"
        },
        "id": "tbSeI5qT2Dj5",
        "outputId": "94ad181b-a3de-4d70-8a35-1018e9d402a5"
      },
      "outputs": [
        {
          "output_type": "stream",
          "name": "stdout",
          "text": [
            "\n",
            "*** MENU ***\n",
            "1) List Books\n",
            "2) Add Book\n",
            "3) Remove Book\n",
            "4) Exit\n",
            "Enter your choice: 1\n",
            "No books found in the library.\n",
            "\n",
            "*** MENU ***\n",
            "1) List Books\n",
            "2) Add Book\n",
            "3) Remove Book\n",
            "4) Exit\n",
            "Enter your choice: 2\n",
            "Enter book title: emre\n",
            "Enter book author: emre bey\n",
            "Enter release year: 2024\n",
            "Enter number of pages: 210\n",
            "Book 'emre' added successfully.\n",
            "\n",
            "*** MENU ***\n",
            "1) List Books\n",
            "2) Add Book\n",
            "3) Remove Book\n",
            "4) Exit\n",
            "Enter your choice: 1\n",
            "No books found in the library.\n",
            "\n",
            "*** MENU ***\n",
            "1) List Books\n",
            "2) Add Book\n",
            "3) Remove Book\n",
            "4) Exit\n",
            "Enter your choice: 1\n",
            "No books found in the library.\n",
            "\n",
            "*** MENU ***\n",
            "1) List Books\n",
            "2) Add Book\n",
            "3) Remove Book\n",
            "4) Exit\n",
            "Enter your choice: 4\n",
            "Exiting the library management system.\n"
          ]
        }
      ],
      "source": [
        "class Library:\n",
        "    def __init__(self):\n",
        "        try:\n",
        "            self.file = open(\"books.txt\", \"a+\")\n",
        "        except FileNotFoundError:\n",
        "            print(\"No 'books.txt' file found. Creating a new one.\")\n",
        "            self.file = open(\"books.txt\", \"w+\")\n",
        "\n",
        "    def __del__(self):\n",
        "        self.file.close()\n",
        "\n",
        "    def list_books(self):\n",
        "        books = []\n",
        "        for line in self.file:\n",
        "            book_info = line.rstrip().split(\",\")\n",
        "            books.append({\"title\": book_info[0], \"author\": book_info[1]})\n",
        "        if not books:\n",
        "            print(\"No books found in the library.\")\n",
        "        else:\n",
        "            print(\"Here is a list of books:\")\n",
        "            for book in books:\n",
        "                print(f\"- {book['title']} by {book['author']}\")\n",
        "\n",
        "    def add_book(self):\n",
        "        title = input(\"Enter book title: \")\n",
        "        author = input(\"Enter book author: \")\n",
        "        release_year = int(input(\"Enter release year: \"))\n",
        "        num_pages = int(input(\"Enter number of pages: \"))\n",
        "        book_info = f\"{title},{author},{release_year},{num_pages}\\n\"\n",
        "        self.file.write(book_info)\n",
        "        print(f\"Book '{title}' added successfully.\")\n",
        "\n",
        "    def remove_book(self):\n",
        "        title = input(\"Enter title of the book to remove: \")\n",
        "        books = []\n",
        "        for line in self.file:\n",
        "            book_info = line.rstrip().split(\",\")\n",
        "            if book_info[0] != title:\n",
        "                books.append(\",\".join(book_info) + \"\\n\")\n",
        "        self.file.truncate(0)\n",
        "        self.file.writelines(books)\n",
        "        if not books:\n",
        "            print(f\"Book '{title}' not found in the library.\")\n",
        "        else:\n",
        "            print(f\"Book '{title}' removed successfully.\")\n",
        "\n",
        "if __name__ == \"__main__\":\n",
        "    lib = Library()\n",
        "    while True:\n",
        "        print(\"\\n*** MENU ***\")\n",
        "        print(\"1) List Books\")\n",
        "        print(\"2) Add Book\")\n",
        "        print(\"3) Remove Book\")\n",
        "        print(\"4) Exit\")\n",
        "        choice = input(\"Enter your choice: \")\n",
        "\n",
        "        if choice == \"1\":\n",
        "            lib.list_books()\n",
        "        elif choice == \"2\":\n",
        "            lib.add_book()\n",
        "        elif choice == \"3\":\n",
        "            lib.remove_book()\n",
        "        elif choice == \"4\":\n",
        "            print(\"Exiting the library management system.\")\n",
        "            break\n",
        "        else:\n",
        "            print(\"Invalid choice. Please try again.\")\n"
      ]
    }
  ]
}